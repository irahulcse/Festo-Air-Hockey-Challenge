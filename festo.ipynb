{
 "nbformat": 4,
 "nbformat_minor": 0,
 "metadata": {
  "colab": {
   "provenance": [],
   "toc_visible": true,
   "include_colab_link": true
  },
  "kernelspec": {
   "name": "python3",
   "display_name": "Python 3"
  },
  "language_info": {
   "name": "python"
  }
 },
 "cells": [
  {
   "cell_type": "markdown",
   "metadata": {
    "id": "view-in-github",
    "colab_type": "text"
   },
   "source": [
    "<a href=\"https://colab.research.google.com/github/irahulcse/Festo-Air-Hockey-Challenge/blob/master/festo.ipynb\" target=\"_parent\"><img src=\"https://colab.research.google.com/assets/colab-badge.svg\" alt=\"Open In Colab\"/></a>"
   ]
  },
  {
   "cell_type": "code",
   "metadata": {
    "id": "bL8howNIDbAp",
    "outputId": "3d2ef7bb-f93a-49d6-e3af-f3dfc5306b67",
    "colab": {
     "base_uri": "https://localhost:8080/"
    },
    "ExecuteTime": {
     "end_time": "2025-05-08T09:00:05.625272Z",
     "start_time": "2025-05-08T09:00:02.409753Z"
    }
   },
   "source": [
    "! pip install --upgrade pip\n",
    "! pip install opencv-python"
   ],
   "outputs": [
    {
     "name": "stdout",
     "output_type": "stream",
     "text": [
      "Requirement already satisfied: pip in /Users/leonakoester/anaconda3/lib/python3.12/site-packages (25.1.1)\r\n",
      "Requirement already satisfied: opencv-python in /Users/leonakoester/anaconda3/lib/python3.12/site-packages (4.11.0.86)\r\n",
      "Requirement already satisfied: numpy>=1.21.2 in /Users/leonakoester/anaconda3/lib/python3.12/site-packages (from opencv-python) (1.26.4)\r\n"
     ]
    }
   ],
   "execution_count": 1
  },
  {
   "cell_type": "code",
   "source": [
    "print(\"hello world\")"
   ],
   "metadata": {
    "id": "lvSjUlDqG-Ka",
    "outputId": "6e1b910d-9c48-41c6-dfc7-f473b4a97e53",
    "colab": {
     "base_uri": "https://localhost:8080/"
    },
    "ExecuteTime": {
     "end_time": "2025-05-08T09:00:05.683846Z",
     "start_time": "2025-05-08T09:00:05.679494Z"
    }
   },
   "outputs": [
    {
     "name": "stdout",
     "output_type": "stream",
     "text": [
      "hello world\n"
     ]
    }
   ],
   "execution_count": 2
  },
  {
   "cell_type": "code",
   "source": [
    "import cv2\n",
    "cv2.__version__"
   ],
   "metadata": {
    "id": "68R354Q1Fa7J",
    "outputId": "ec40dd25-c70a-4c3c-90ba-6c61542d03dc",
    "colab": {
     "base_uri": "https://localhost:8080/",
     "height": 35
    },
    "ExecuteTime": {
     "end_time": "2025-05-08T09:05:14.305688Z",
     "start_time": "2025-05-08T09:05:14.302552Z"
    }
   },
   "outputs": [
    {
     "data": {
      "text/plain": [
       "'4.11.0'"
      ]
     },
     "execution_count": 5,
     "metadata": {},
     "output_type": "execute_result"
    }
   ],
   "execution_count": 5
  },
  {
   "metadata": {
    "ExecuteTime": {
     "end_time": "2025-05-08T12:51:28.512465Z",
     "start_time": "2025-05-08T12:51:27.408502Z"
    }
   },
   "cell_type": "code",
   "source": [
    "import numpy as np\n",
    "import cv2 as cv\n",
    "\n",
    "cap = cv.VideoCapture(0)\n",
    "if not cap.isOpened():\n",
    "    print(\"Cannot open camera\")\n",
    "    exit()\n",
    "while True:\n",
    "    # Capture frame-by-frame\n",
    "    ret, frame = cap.read()\n",
    "\n",
    "    # if frame is read correctly ret is True\n",
    "    if not ret:\n",
    "        print(\"Can't receive frame (stream end?). Exiting ...\")\n",
    "        break\n",
    "    # Our operations on the frame come here\n",
    "    gray = cv.cvtColor(frame, cv.COLOR_BGR2GRAY)\n",
    "    gray_no_noise = cv.GaussianBlur(gray, (9,9), 2)\n",
    "\n",
    "\n",
    "    rows = gray.shape[0]\n",
    "    circles = cv.HoughCircles(gray_no_noise, cv.HOUGH_GRADIENT, 1, rows / 8,\n",
    "                               param1=100, param2=30,\n",
    "                               minRadius=30, maxRadius=40)\n",
    "    if circles is not None:\n",
    "        circles = np.uint16(np.around(circles))\n",
    "        for i in circles[0, :]:\n",
    "            center = (i[0], i[1])\n",
    "            print(center)\n",
    "            import coordinates_transformation\n",
    "            robot_x, robot_y = coordinates_transformation.calc_robot_coordinates(center[0], center[1])\n",
    "            print(robot_x, robot_y)\n",
    "            # circle center\n",
    "            cv.circle(gray, center, 1, (0, 100, 100), 3)\n",
    "            # circle outline\n",
    "            radius = i[2]\n",
    "            cv.circle(gray, center, radius, (255, 0, 255), 3)\n",
    "\n",
    "\n",
    "    # Display the resulting frame\n",
    "    cv.imshow('frame', gray)\n",
    "    if cv.waitKey(1) == ord('q'):\n",
    "        break\n",
    "# When everything done, release the capture\n",
    "cap.release()\n",
    "cv.destroyAllWindows()"
   ],
   "outputs": [
    {
     "name": "stdout",
     "output_type": "stream",
     "text": [
      "(np.uint16(630), np.uint16(602))\n",
      "191.85691000000003 274.33590000000004\n",
      "(np.uint16(630), np.uint16(602))\n",
      "191.85691000000003 274.33590000000004\n",
      "(np.uint16(630), np.uint16(602))\n",
      "191.85691000000003 274.33590000000004\n",
      "(np.uint16(630), np.uint16(602))\n",
      "191.85691000000003 274.33590000000004\n",
      "(np.uint16(630), np.uint16(602))\n",
      "191.85691000000003 274.33590000000004\n",
      "(np.uint16(630), np.uint16(602))\n",
      "191.85691000000003 274.33590000000004\n",
      "(np.uint16(630), np.uint16(602))\n",
      "191.85691000000003 274.33590000000004\n",
      "(np.uint16(630), np.uint16(602))\n",
      "191.85691000000003 274.33590000000004\n",
      "(np.uint16(630), np.uint16(602))\n",
      "191.85691000000003 274.33590000000004\n",
      "(np.uint16(630), np.uint16(602))\n",
      "191.85691000000003 274.33590000000004\n",
      "(np.uint16(630), np.uint16(602))\n",
      "191.85691000000003 274.33590000000004\n",
      "(np.uint16(630), np.uint16(602))\n",
      "191.85691000000003 274.33590000000004\n",
      "(np.uint16(630), np.uint16(602))\n",
      "191.85691000000003 274.33590000000004\n",
      "(np.uint16(630), np.uint16(602))\n",
      "191.85691000000003 274.33590000000004\n",
      "(np.uint16(630), np.uint16(602))\n",
      "191.85691000000003 274.33590000000004\n",
      "(np.uint16(630), np.uint16(602))\n",
      "191.85691000000003 274.33590000000004\n",
      "(np.uint16(630), np.uint16(602))\n",
      "191.85691000000003 274.33590000000004\n",
      "(np.uint16(630), np.uint16(602))\n",
      "191.85691000000003 274.33590000000004\n",
      "(np.uint16(630), np.uint16(602))\n",
      "191.85691000000003 274.33590000000004\n",
      "(np.uint16(630), np.uint16(602))\n",
      "191.85691000000003 274.33590000000004\n",
      "(np.uint16(630), np.uint16(602))\n",
      "191.85691000000003 274.33590000000004\n",
      "(np.uint16(630), np.uint16(602))\n",
      "191.85691000000003 274.33590000000004\n",
      "(np.uint16(630), np.uint16(602))\n",
      "191.85691000000003 274.33590000000004\n",
      "(np.uint16(630), np.uint16(602))\n",
      "191.85691000000003 274.33590000000004\n",
      "(np.uint16(630), np.uint16(602))\n",
      "191.85691000000003 274.33590000000004\n"
     ]
    },
    {
     "ename": "KeyboardInterrupt",
     "evalue": "",
     "output_type": "error",
     "traceback": [
      "\u001B[31m---------------------------------------------------------------------------\u001B[39m",
      "\u001B[31mKeyboardInterrupt\u001B[39m                         Traceback (most recent call last)",
      "\u001B[36mCell\u001B[39m\u001B[36m \u001B[39m\u001B[32mIn[8]\u001B[39m\u001B[32m, line 42\u001B[39m\n\u001B[32m     40\u001B[39m     \u001B[38;5;66;03m# Display the resulting frame\u001B[39;00m\n\u001B[32m     41\u001B[39m     cv.imshow(\u001B[33m'\u001B[39m\u001B[33mframe\u001B[39m\u001B[33m'\u001B[39m, gray)\n\u001B[32m---> \u001B[39m\u001B[32m42\u001B[39m     \u001B[38;5;28;01mif\u001B[39;00m \u001B[43mcv\u001B[49m\u001B[43m.\u001B[49m\u001B[43mwaitKey\u001B[49m\u001B[43m(\u001B[49m\u001B[32;43m1\u001B[39;49m\u001B[43m)\u001B[49m == \u001B[38;5;28mord\u001B[39m(\u001B[33m'\u001B[39m\u001B[33mq\u001B[39m\u001B[33m'\u001B[39m):\n\u001B[32m     43\u001B[39m         \u001B[38;5;28;01mbreak\u001B[39;00m\n\u001B[32m     44\u001B[39m \u001B[38;5;66;03m# When everything done, release the capture\u001B[39;00m\n",
      "\u001B[31mKeyboardInterrupt\u001B[39m: "
     ]
    }
   ],
   "execution_count": 8
  }
 ]
}
