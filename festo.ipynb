{
 "nbformat": 4,
 "nbformat_minor": 0,
 "metadata": {
  "colab": {
   "provenance": [],
   "toc_visible": true,
   "include_colab_link": true
  },
  "kernelspec": {
   "name": "python3",
   "display_name": "Python 3"
  },
  "language_info": {
   "name": "python"
  }
 },
 "cells": [
  {
   "cell_type": "markdown",
   "metadata": {
    "id": "view-in-github",
    "colab_type": "text"
   },
   "source": [
    "<a href=\"https://colab.research.google.com/github/irahulcse/Festo-Air-Hockey-Challenge/blob/master/festo.ipynb\" target=\"_parent\"><img src=\"https://colab.research.google.com/assets/colab-badge.svg\" alt=\"Open In Colab\"/></a>"
   ]
  },
  {
   "cell_type": "code",
   "metadata": {
    "id": "bL8howNIDbAp",
    "outputId": "3d2ef7bb-f93a-49d6-e3af-f3dfc5306b67",
    "colab": {
     "base_uri": "https://localhost:8080/"
    },
    "ExecuteTime": {
     "end_time": "2025-05-08T09:00:05.625272Z",
     "start_time": "2025-05-08T09:00:02.409753Z"
    }
   },
   "source": [
    "! pip install --upgrade pip\n",
    "! pip install opencv-python"
   ],
   "outputs": [
    {
     "name": "stdout",
     "output_type": "stream",
     "text": [
      "Requirement already satisfied: pip in /Users/leonakoester/anaconda3/lib/python3.12/site-packages (25.1.1)\r\n",
      "Requirement already satisfied: opencv-python in /Users/leonakoester/anaconda3/lib/python3.12/site-packages (4.11.0.86)\r\n",
      "Requirement already satisfied: numpy>=1.21.2 in /Users/leonakoester/anaconda3/lib/python3.12/site-packages (from opencv-python) (1.26.4)\r\n"
     ]
    }
   ],
   "execution_count": 1
  },
  {
   "cell_type": "code",
   "source": [
    "print(\"hello world\")"
   ],
   "metadata": {
    "id": "lvSjUlDqG-Ka",
    "outputId": "6e1b910d-9c48-41c6-dfc7-f473b4a97e53",
    "colab": {
     "base_uri": "https://localhost:8080/"
    },
    "ExecuteTime": {
     "end_time": "2025-05-08T09:00:05.683846Z",
     "start_time": "2025-05-08T09:00:05.679494Z"
    }
   },
   "outputs": [
    {
     "name": "stdout",
     "output_type": "stream",
     "text": [
      "hello world\n"
     ]
    }
   ],
   "execution_count": 2
  },
  {
   "cell_type": "code",
   "source": [
    "import cv2\n",
    "import numpy as np\n",
    "cv2.__version__"
   ],
   "metadata": {
    "id": "68R354Q1Fa7J",
    "outputId": "ec40dd25-c70a-4c3c-90ba-6c61542d03dc",
    "colab": {
     "base_uri": "https://localhost:8080/",
     "height": 35
    },
    "ExecuteTime": {
     "end_time": "2025-05-08T09:05:14.305688Z",
     "start_time": "2025-05-08T09:05:14.302552Z"
    }
   },
   "outputs": [
    {
     "data": {
      "text/plain": [
       "'4.11.0'"
      ]
     },
     "execution_count": 5,
     "metadata": {},
     "output_type": "execute_result"
    }
   ],
   "execution_count": 5
  }
 ]
}
